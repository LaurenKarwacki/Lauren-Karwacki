{
  "nbformat": 4,
  "nbformat_minor": 0,
  "metadata": {
    "colab": {
      "provenance": [],
      "include_colab_link": true
    },
    "kernelspec": {
      "name": "python3",
      "display_name": "Python 3"
    },
    "language_info": {
      "name": "python"
    }
  },
  "cells": [
    {
      "cell_type": "markdown",
      "metadata": {
        "id": "view-in-github",
        "colab_type": "text"
      },
      "source": [
        "<a href=\"https://colab.research.google.com/github/LaurenKarwacki/Lauren-Karwacki/blob/main/coding_homework_1.ipynb\" target=\"_parent\"><img src=\"https://colab.research.google.com/assets/colab-badge.svg\" alt=\"Open In Colab\"/></a>"
      ]
    },
    {
      "cell_type": "markdown",
      "source": [
        "# Coding Homework #1\n",
        "\n",
        "**Instructions** (Note: it is very important you follow these instructions in order!)\n",
        "\n",
        "1. Run the first *Code Cell* below.\n",
        "\n",
        "2. Make a *Markdown Cell* that contains the following information:\n",
        "  * Your name (small header)\n",
        "  * The name of this class (italicized)\n",
        "  * The date (bolded)\n",
        "\n",
        "3. **Important!**: For each *Code Cell* that you create, make at least one line of code with a `#` in front of it that describes what your code does.\n",
        "\n",
        "4. Make a *Code Cell* that turns `v_rest_sst.csv` into a `Pandas DataFrame` called `pandas_data1`, and `v_rest_pvalb.csv` into a `Pandas DataFrame` called `pandas_data2`. Recall that we covered how to import `.csv` files as `Pandas DataFrames` in our in-class coding activity on January 31st.\n",
        "\n",
        "5. Make a *Code Cell* that converts `pandas_data1` into a `list` variable called `data1`, and converts `pandas_data2` into a `list` variable called `data2`. The following syntax is an example of how to do this:\n",
        "\n",
        "\n",
        "```\n",
        "data1 = pandas_data1.values.tolist()\n",
        "```\n",
        "\n",
        "6. When you convert a `Pandas DataFrame` into a `list`, it brackets each individual element - we don't want that! To get around this issue, make a *Code Cell* that flattens `data1` and `data2` using the `numpy.squeeze()` function. Your first *Code Cell* imported the `NumPy` module as `np`, so we can use the following code to flatten `data1`:\n",
        "\n",
        "\n",
        "```\n",
        "data1 = np.squeeze(data1)\n",
        "```\n",
        "&nbsp;&nbsp;&nbsp;&nbsp;&nbsp;&nbsp;&nbsp;&nbsp;&nbsp;&nbsp;Repeat this for `data2`.\n",
        "\n",
        "7. Make a *Code Cell* that prints the length of `data1`.\n",
        "\n",
        "8. Make a *Code Cell* that prints the 3rd, 4th, 5th, and 6th elements of `data2`.\n",
        "\n",
        "9. Make a *Code Cell* that prints the second-to-last and last elements of `data1` (use negative indexing).\n",
        "\n",
        "10. Make a *Code Cell* that prints the `type` of `data2` by using the `type` function.\n",
        "\n",
        "11. The first *Code Cell* you ran imports a module called `matplotlib`. In a new *Code Cell*, use `matplotlib` to make a histogram of `data1`. You can use the syntax `plt.hist()` to do this (remember that the variable you are applying the function to goes inside of the parentheses).\n",
        "\n",
        "12. In a new *Code Cell*, re-make your histogram and use the `plt.xlabel()` and `plt.ylabel()` functions to label your axes.\n",
        "\n",
        "13. In a new *Code Cell*, follow the instructions in steps 11 and 12 to make another histogram with axis labels for `data2`.\n",
        "\n",
        "14. In a new *Markdown Cell*, write a brief description of any differences that you observe between your two histograms. Does one group of cells seem to have a higher/lower resting membrane potential than the other group of cells?\n",
        "\n",
        "15. In a new *Code Cell*, create a new variable called `data3`. Let `data3` be a list containing both `data1` and `data2`.\n",
        "\n",
        "16. Make a *Code Cell* that prints the last element of `data2`. You must index `data3` to do this.\n",
        "\n",
        "17. Save a copy of this notebook to your GitHub repo with the title \"coding_homework_1.pynb\"."
      ],
      "metadata": {
        "id": "R8xCV2iP1KZ_"
      }
    },
    {
      "cell_type": "code",
      "source": [
        "# Import matplotlib\n",
        "\n",
        "from matplotlib import pyplot as plt\n",
        "\n",
        "import pandas as pd\n",
        "\n",
        "import numpy as np"
      ],
      "metadata": {
        "id": "48IPWJIt59-Y"
      },
      "execution_count": 229,
      "outputs": []
    },
    {
      "cell_type": "markdown",
      "source": [
        "### Lauren Karwacki\n",
        "\n",
        "*Intro to Neural Data Analysis - NEUR 265*\n",
        "\n",
        "**February 5, 2024**"
      ],
      "metadata": {
        "id": "ZlWf-1LhJszo"
      }
    },
    {
      "cell_type": "code",
      "source": [
        "# The url_sst is a variable representation of the r_rest_sst.csv raw data and the pandas_data1 imports the provided .csv files into python as a pandas dataframe.\n",
        "# The url_pvalb is a variable representation of the r_rest_pvalb.csv raw data and the pandas_data2 imports the provided .csv files into python as a pandas dataframe.\n",
        "\n",
        "url_sst = 'https://raw.githubusercontent.com/LaurenKarwacki/Lauren-Karwacki/main/v_rest_sst.csv'\n",
        "pandas_data1 = pd.read_csv(url_sst)\n",
        "\n",
        "url_pvalb = 'https://raw.githubusercontent.com/LaurenKarwacki/Lauren-Karwacki/main/v_rest_pvalb.csv'\n",
        "pandas_data2 = pd.read_csv(url_pvalb)"
      ],
      "metadata": {
        "id": "6Kdle2i7Jrlr"
      },
      "execution_count": 230,
      "outputs": []
    },
    {
      "cell_type": "code",
      "source": [
        "# The data1 is a variable representation of the code that converts the pandas dataframe for Sst into a list format.\n",
        "# The data2 is a variable representation of the code that converts the pandas dataframe for Pvalb into a list format.\n",
        "\n",
        "data1 = 'pandas_data1.values.tolist()'\n",
        "\n",
        "data2 = 'pandas_data2.values.tolist()'"
      ],
      "metadata": {
        "id": "rLS0xR45P3Nr"
      },
      "execution_count": 231,
      "outputs": []
    },
    {
      "cell_type": "code",
      "source": [
        "# data1squeeze is a variable representation of the data1's conversion from individual data points into one group of Sst data points.\n",
        "# data2squeeze is a variable representation of the data2's conversion from individual data points into one group of Pvalb data points.\n",
        "\n",
        "data1squeeze = 'np.squeeze(data1)'\n",
        "\n",
        "data2squeeze = 'np.squeeze(data2)'"
      ],
      "metadata": {
        "id": "wZWsOQVsP22-"
      },
      "execution_count": 232,
      "outputs": []
    },
    {
      "cell_type": "code",
      "source": [
        "# This code displays the number of data points in the squeezed Sst dataset.\n",
        "\n",
        "print(len(data1squeeze))"
      ],
      "metadata": {
        "colab": {
          "base_uri": "https://localhost:8080/"
        },
        "id": "bstYlSJUUlRM",
        "outputId": "59777f4d-6f38-4bf3-d537-3a8497990787"
      },
      "execution_count": 233,
      "outputs": [
        {
          "output_type": "stream",
          "name": "stdout",
          "text": [
            "17\n"
          ]
        }
      ]
    },
    {
      "cell_type": "code",
      "source": [
        "# This code displays the third through sixth data points in the squeezed Pvalb dataset.\n",
        "\n",
        "print(data2squeeze[2:6])"
      ],
      "metadata": {
        "id": "rWKgoPZUP2zv",
        "colab": {
          "base_uri": "https://localhost:8080/"
        },
        "outputId": "3cfc30cd-39c2-4bf7-fa94-27d3ad064406"
      },
      "execution_count": 234,
      "outputs": [
        {
          "output_type": "stream",
          "name": "stdout",
          "text": [
            ".squ\n"
          ]
        }
      ]
    },
    {
      "cell_type": "code",
      "source": [
        "# This code displays the last and second to last data points in the squeezed Sst dataset (using negative indexing for simplicity).\n",
        "\n",
        "print(data1squeeze[-2:])"
      ],
      "metadata": {
        "colab": {
          "base_uri": "https://localhost:8080/"
        },
        "id": "1-92sBu3jPAG",
        "outputId": "d6efdd98-35a7-425f-a3ea-282e01e493ae"
      },
      "execution_count": 235,
      "outputs": [
        {
          "output_type": "stream",
          "name": "stdout",
          "text": [
            "1)\n"
          ]
        }
      ]
    },
    {
      "cell_type": "code",
      "source": [
        "# This code displays the type of data that the squeezed Pvalb set displays.\n",
        "\n",
        "type(data2squeeze)"
      ],
      "metadata": {
        "colab": {
          "base_uri": "https://localhost:8080/"
        },
        "id": "O3BRusowkSVf",
        "outputId": "489da016-122e-47ad-c714-29b54c4142a2"
      },
      "execution_count": 236,
      "outputs": [
        {
          "output_type": "execute_result",
          "data": {
            "text/plain": [
              "str"
            ]
          },
          "metadata": {},
          "execution_count": 236
        }
      ]
    },
    {
      "cell_type": "code",
      "source": [
        "# This cell contains a histogram displaying frequency of ranges of data in the raw Sst file (no axes labels).\n",
        "\n",
        "plt.hist(pandas_data1)"
      ],
      "metadata": {
        "colab": {
          "base_uri": "https://localhost:8080/",
          "height": 517
        },
        "id": "Fuer3QpUmWrM",
        "outputId": "63e592f0-5ef7-4396-c80c-317bf298b031"
      },
      "execution_count": 237,
      "outputs": [
        {
          "output_type": "execute_result",
          "data": {
            "text/plain": [
              "(array([  3.,   4.,  23.,  77., 125., 107.,  90.,  42.,  21.,   7.]),\n",
              " array([-88.07835484, -84.19758717, -80.31681949, -76.43605182,\n",
              "        -72.55528415, -68.67451648, -64.7937488 , -60.91298113,\n",
              "        -57.03221346, -53.15144578, -49.27067811]),\n",
              " <BarContainer object of 10 artists>)"
            ]
          },
          "metadata": {},
          "execution_count": 237
        },
        {
          "output_type": "display_data",
          "data": {
            "text/plain": [
              "<Figure size 640x480 with 1 Axes>"
            ],
            "image/png": "[encoded data removed]"
          },
          "metadata": {}
        }
      ]
    },
    {
      "cell_type": "code",
      "source": [
        "# This cell contains a histogram displaying frequency of data in the raw Sst file with x and y-axis labels of \"Resting Membrane Potential (mV)\" and \"Frequency\" respectively.\n",
        "\n",
        "plt.hist(pandas_data1)\n",
        "plt.xlabel('Resting Membrane Potential (mV)')\n",
        "plt.ylabel('Frequency')"
      ],
      "metadata": {
        "colab": {
          "base_uri": "https://localhost:8080/",
          "height": 466
        },
        "id": "BI_3zou8EYam",
        "outputId": "84205f31-f27f-493e-fd55-902f85bbcb32"
      },
      "execution_count": 238,
      "outputs": [
        {
          "output_type": "execute_result",
          "data": {
            "text/plain": [
              "Text(0, 0.5, 'Frequency')"
            ]
          },
          "metadata": {},
          "execution_count": 238
        },
        {
          "output_type": "display_data",
          "data": {
            "text/plain": [
              "<Figure size 640x480 with 1 Axes>"
            ],
            "image/png": "[encoded data removed]"
          },
          "metadata": {}
        }
      ]
    },
    {
      "cell_type": "code",
      "source": [
        "# This cell contains a histogram displaying frequency of ranges of data in the raw Pvalb file (no axes labels).\n",
        "\n",
        "plt.hist(pandas_data2)"
      ],
      "metadata": {
        "colab": {
          "base_uri": "https://localhost:8080/",
          "height": 517
        },
        "id": "fhE-i2JsQgF-",
        "outputId": "ed2f932e-1c0a-4379-e040-b38db9dc29d8"
      },
      "execution_count": 239,
      "outputs": [
        {
          "output_type": "execute_result",
          "data": {
            "text/plain": [
              "(array([  7.,  28., 117., 148.,  96.,  66.,  26.,   6.,   4.,   1.]),\n",
              " array([-85.27155304, -81.26054661, -77.24954018, -73.23853375,\n",
              "        -69.22752732, -65.2165209 , -61.20551447, -57.19450804,\n",
              "        -53.18350161, -49.17249518, -45.16148875]),\n",
              " <BarContainer object of 10 artists>)"
            ]
          },
          "metadata": {},
          "execution_count": 239
        },
        {
          "output_type": "display_data",
          "data": {
            "text/plain": [
              "<Figure size 640x480 with 1 Axes>"
            ],
            "image/png": "[encoded data removed]"
          },
          "metadata": {}
        }
      ]
    },
    {
      "cell_type": "code",
      "source": [
        "# This cell contains a histogram displaying frequency of data in the raw Pvalb file with x and y-axis labels of \"Resting Membrane Potential (mV)\" and \"Frequency\" respectively.\n",
        "\n",
        "plt.hist(pandas_data2)\n",
        "plt.xlabel('Resting Membrane Potential (mV)')\n",
        "plt.ylabel('Frequency')"
      ],
      "metadata": {
        "colab": {
          "base_uri": "https://localhost:8080/",
          "height": 466
        },
        "id": "SxXWy8veROED",
        "outputId": "80b9c6de-8ef4-4de7-b05e-e928130f02a1"
      },
      "execution_count": 240,
      "outputs": [
        {
          "output_type": "execute_result",
          "data": {
            "text/plain": [
              "Text(0, 0.5, 'Frequency')"
            ]
          },
          "metadata": {},
          "execution_count": 240
        },
        {
          "output_type": "display_data",
          "data": {
            "text/plain": [
              "<Figure size 640x480 with 1 Axes>"
            ],
            "image/png": "[encoded data removed]"
          },
          "metadata": {}
        }
      ]
    },
    {
      "cell_type": "markdown",
      "source": [
        "* In general, the resting membrane potential appears to be higher for the Sst marker gene than for the Pvalb marker gene.\n",
        "* The lowest resting membrane potential for the Sst marker gene is about -88mV, while the lowest resting membrane potential for the Pvalb marker gene is about -85mV.\n",
        "* The highest resting membrane potential for the Sst marker gene is about -49mV, while the highest resting membrane potential for the Pvalb marker gene is about -45mV.\n",
        "* The range for the Sst marker gene is slightly smaller (about 39mV) than the range for the Pvalb marker gene (about 40mV)."
      ],
      "metadata": {
        "id": "TPcg2wx4R5ZL"
      }
    },
    {
      "cell_type": "code",
      "source": [
        "# This code merges the Sst and Pvalb datasets into one comprehensive list with the variable name \"data3.\"\n",
        "\n",
        "data1list = [pandas_data1]\n",
        "data2list = [pandas_data2]\n",
        "data3 = [data1list, data2list]"
      ],
      "metadata": {
        "id": "AScpUvSpUD94"
      },
      "execution_count": 241,
      "outputs": []
    },
    {
      "cell_type": "code",
      "source": [
        "# This code uses the new combined list of \"data3\" to find the number index (using .iloc) inside of the Pvalb dataset (data2).\n",
        "\n",
        "print(data3[1][-1].iloc[-1,-1])"
      ],
      "metadata": {
        "colab": {
          "base_uri": "https://localhost:8080/"
        },
        "id": "VCV4bZFAW3cy",
        "outputId": "172becfb-dab7-460c-f0c5-65ed2fa25483"
      },
      "execution_count": 242,
      "outputs": [
        {
          "output_type": "stream",
          "name": "stdout",
          "text": [
            "-54.08427915\n"
          ]
        }
      ]
    }
  ]
}