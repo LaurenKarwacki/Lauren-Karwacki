{
  "nbformat": 4,
  "nbformat_minor": 0,
  "metadata": {
    "colab": {
      "provenance": [],
      "include_colab_link": true
    },
    "kernelspec": {
      "name": "python3",
      "display_name": "Python 3"
    },
    "language_info": {
      "name": "python"
    }
  },
  "cells": [
    {
      "cell_type": "markdown",
      "metadata": {
        "id": "view-in-github",
        "colab_type": "text"
      },
      "source": [
        "<a href=\"https://colab.research.google.com/github/LaurenKarwacki/Lauren-Karwacki/blob/main/coding_homework_2.ipynb\" target=\"_parent\"><img src=\"https://colab.research.google.com/assets/colab-badge.svg\" alt=\"Open In Colab\"/></a>"
      ]
    },
    {
      "cell_type": "markdown",
      "source": [
        "# Coding Homework #2\n",
        "\n",
        "**Instructions:**\n",
        "\n",
        "1. Make a *Markdown Cell* that contains the following information:\n",
        "- Your name (small header)\n",
        "- The name of this class (italicized)\n",
        "- The date (bolded)\n",
        "\n",
        "2. Make a *Code Cell* that imports <code>numpy</code> as <code>np</code>, <code>matplotlib.pyplot</code> as <code>plt</code>, <code>statistics</code> as <code>st</code>.\n",
        "\n",
        "3. Make a *Code Cell* that imports your <code>v_rest_sst.csv</code> and <code>v_rest_pvalb.csv</code> files as <code>numpy</code> arrays called <code>v_rest1</code> and <code>v_rest2</code> respectively. You're used to doing this with the <code>pd.read_csv</code> function for <code>pandas</code>, but can accomplish the same thing using the <code>np.loadtxt</code> function for <code>numpy</code>.\n",
        "\n",
        "4. Make a *Code Cell* that concatenates <code>v_rest_sst</code> and <code>v_rest_pvalb</code> into a matrix with 2 rows and 13 columns named <code>v_rest</code>.\n",
        "\n",
        "5. Make a *Code Cell* that prints the <code>size</code> of <code>v_rest</code>.\n",
        "\n",
        "6. Make a *Code Cell* that returns the first row of <code>v_rest</code>.\n",
        "\n",
        "7. Make a *Code Cell* that returns the sum of the values in the third column of <code>v_rest</code>. You can accomplish this by using <code>v_rest[].sum()</code>, with your index inside of the brackets. As an example, if I wanted to return the sum of the first row of <code>v_rest</code>, I could use <code>v_rest[0].sum()</code> to get my answer.\n",
        "\n",
        "8. Make a *Code Cell* that returns the second-to-last value in the second row of <code>v_rest</code> (use negative indexing for the column value).\n",
        "\n",
        "9. Create a *Code Cell* that makes a histogram of the values in the first row of <code>v_rest</code> (you can do this by using the <code>plt.hist()</code> function). Label your axes.\n",
        "\n",
        "10. Create a *Code Cell* that takes the mean of the values in the first row of <code>v_rest</code>, and assigns the mean to a variable called <code>v_rest_mean_sst</code>. Do the same thing for the second row of <code>v_rest</code>, and assign the mean value of the second row to a variable called <code>v_rest_mean_pvalb</code>. You can get the means by using the <code>st.mean()</code> function (remember to put what you want the mean *of* inside the parentheses of the function).\n",
        "\n",
        "11. Create a *Markdown Cell* that describes the difference in means between the two rows. Which one is bigger?\n",
        "\n",
        "12. How can we test whether the difference in means is *meaningful* (statistically significant)? When we're comparing two means, we can use a t-test (assuming the data are normally distributed). To use a t-test on our data, we will first need to import the <code>scipy</code> package. Create a new *Code Cell* that runs the following:\n",
        "\n",
        "<code>\n",
        "import scipy.stats as stats\n",
        "</code>\n",
        "\n",
        "13. Now, we can perform a t-test on the two rows of <code>v_rest</code>. To do this, create a new *Code Cell* that uses the <code>stats.ttest_ind()</code> function - for example:\n",
        "\n",
        "<code>\n",
        "stats.ttest_ind(row1, row2)\n",
        "</code>\n",
        "\n",
        "Replace <code>row1</code> and <code>row2</code> in this case with the first and second rows, respectively, of <code>v_rest</code>.\n",
        "\n",
        "14. Make a *Markdown Cell* that describes the results of your t-test. You should have <code>statistic</code> variable and a <code>pvalue</code> variable. The way to interpret your p-value is as a probability - specifically, the probability that the mean of one distribution could be found in the second distribution. Typically, results are considered to be \"statistically significant\" if the probability is lower than 5% - or 0.05. What is your p-value? Based on this p-value, do you think it is likely that the means are significantly different, or do you think it is likely that they are not?\n",
        "\n",
        "15. Make sure to add at least one line with a <code>#</code> in front of it to each *Code Cell* to describe what each cell does.\n",
        "\n",
        "15. Save a copy of this notebook to your GitHub repo with the title \"coding_homework_2.ipynb\"."
      ],
      "metadata": {
        "id": "CXEcCBSA_prs"
      }
    },
    {
      "cell_type": "markdown",
      "source": [
        "## Lauren Karwacki\n",
        "*NEUR265*\n",
        "\n",
        "**2/16/2024**"
      ],
      "metadata": {
        "id": "-4IVB096UPUe"
      }
    },
    {
      "cell_type": "code",
      "source": [
        "# This code cell imports the numpy, matplotlib.pyplot, and statistics libraries into python so we can use them later.\n",
        "\n",
        "import numpy as np\n",
        "\n",
        "import matplotlib.pyplot as plt\n",
        "\n",
        "import statistics as st"
      ],
      "metadata": {
        "id": "sXaMXhTxVH3O"
      },
      "execution_count": 123,
      "outputs": []
    },
    {
      "cell_type": "code",
      "source": [
        "# This code cell imports the raw data scores from the Pvalb and Sst datasets and converts them to numpy arrays.\n",
        "# The v_rest1 is the variable assigned to the Pvalb numpy array and the v_rest2 is the variable assigned to the Sst numpy array.\n",
        "\n",
        "url_pvalb = 'https://raw.githubusercontent.com/LaurenKarwacki/Lauren-Karwacki/main/v_rest_pvalb.csv'\n",
        "v_rest1 = np.loadtxt(url_pvalb)\n",
        "\n",
        "url_sst = 'https://raw.githubusercontent.com/LaurenKarwacki/Lauren-Karwacki/main/v_rest_sst.csv'\n",
        "v_rest2 = np.loadtxt(url_sst)"
      ],
      "metadata": {
        "id": "BQJPCZcKWFoa"
      },
      "execution_count": 124,
      "outputs": []
    },
    {
      "cell_type": "code",
      "source": [
        "# This code cell first combines the both raw datasets into one matrix.\n",
        "# Then the v_rest variable is used to indicate the sliced dataset, creating a 2x13 matrix (excludes all datapoints after column 13).\n",
        "\n",
        "v_rest_matrix = np.array([v_rest1,v_rest2])\n",
        "v_rest = v_rest_matrix[:,:13]"
      ],
      "metadata": {
        "id": "VA4pd3enZ2jc"
      },
      "execution_count": 125,
      "outputs": []
    },
    {
      "cell_type": "code",
      "source": [
        "# This code cell prints the total number of datapoints in the sliced matrix.\n",
        "\n",
        "v_rest.size"
      ],
      "metadata": {
        "colab": {
          "base_uri": "https://localhost:8080/"
        },
        "id": "ry59QRuM0Kd-",
        "outputId": "7bc93780-2372-4288-df41-3880d059be2f"
      },
      "execution_count": 126,
      "outputs": [
        {
          "output_type": "execute_result",
          "data": {
            "text/plain": [
              "26"
            ]
          },
          "metadata": {},
          "execution_count": 126
        }
      ]
    },
    {
      "cell_type": "code",
      "source": [
        "# This code cell prints the first row of the matrix. 0 indicates the first row/column.\n",
        "# Because there is no other value after the 0 in the brackets, the code will only return the row indicated.\n",
        "\n",
        "v_rest[0]"
      ],
      "metadata": {
        "colab": {
          "base_uri": "https://localhost:8080/"
        },
        "id": "4WpndkiV0Tvb",
        "outputId": "739eb44c-dce9-4d9a-c76d-26e7cc2e2ebc"
      },
      "execution_count": 127,
      "outputs": [
        {
          "output_type": "execute_result",
          "data": {
            "text/plain": [
              "array([-70.21126938, -49.92227745, -75.71939359, -72.36807022,\n",
              "       -63.09300825, -75.5469301 , -66.51929994, -71.50055833,\n",
              "       -69.19734478, -76.38503876, -65.96166784, -65.47980734,\n",
              "       -59.95571342])"
            ]
          },
          "metadata": {},
          "execution_count": 127
        }
      ]
    },
    {
      "cell_type": "code",
      "source": [
        "# This code cell adds the values in the third column together. The \":\" indicates including all rows and the \"2\" indicates the third column.\n",
        "\n",
        "v_rest[:,2].sum()"
      ],
      "metadata": {
        "colab": {
          "base_uri": "https://localhost:8080/"
        },
        "id": "bEvLnMEz0-k2",
        "outputId": "96d5b67e-716a-4a8e-a6f7-156f33c34ec9"
      },
      "execution_count": 128,
      "outputs": [
        {
          "output_type": "execute_result",
          "data": {
            "text/plain": [
              "-151.75359464"
            ]
          },
          "metadata": {},
          "execution_count": 128
        }
      ]
    },
    {
      "cell_type": "code",
      "source": [
        "# This code cell identifies the second to last value in the second row of the sliced matrix.\n",
        "# The \"1\" indicates the second row and the \"-2\" indicates the second to last column.\n",
        "\n",
        "v_rest[1,-2]"
      ],
      "metadata": {
        "colab": {
          "base_uri": "https://localhost:8080/"
        },
        "id": "KPy0Gmx_25he",
        "outputId": "a40eeace-801b-4843-db5c-1a65cf651ab8"
      },
      "execution_count": 129,
      "outputs": [
        {
          "output_type": "execute_result",
          "data": {
            "text/plain": [
              "-66.61118807"
            ]
          },
          "metadata": {},
          "execution_count": 129
        }
      ]
    },
    {
      "cell_type": "code",
      "source": [
        "# This code cell creates a histogram for the first row of the sliced matrix (as indicated by the \"0\" in the brackets).\n",
        "# plt.xlabel() cell labels the x-axis with the label \"Resting Membrane Potential (mV)\"\n",
        "# plt.ylabel() labels the y-axis with the label \"Frequency\"\n",
        "\n",
        "plt.hist(v_rest[0])\n",
        "plt.xlabel('Resting Membrane Potential (mV)')\n",
        "plt.ylabel('Frequency')"
      ],
      "metadata": {
        "colab": {
          "base_uri": "https://localhost:8080/",
          "height": 466
        },
        "id": "q1tsSEH23161",
        "outputId": "49c50f93-4315-4ce3-8a9b-71174784e410"
      },
      "execution_count": 130,
      "outputs": [
        {
          "output_type": "execute_result",
          "data": {
            "text/plain": [
              "Text(0, 0.5, 'Frequency')"
            ]
          },
          "metadata": {},
          "execution_count": 130
        },
        {
          "output_type": "display_data",
          "data": {
            "text/plain": [
              "<Figure size 640x480 with 1 Axes>"
            ],
            "image/png": "[encoded data removed]"
          },
          "metadata": {}
        }
      ]
    },
    {
      "cell_type": "code",
      "source": [
        "# This code cell calculates the means of the first and second rows of the sliced matrix individually.\n",
        "# The v_rest_mean_sst is the variable assigned to the statistical mean for the first row.\n",
        "# The v_rest_mean_pvalb is the variable assigned to the statistical mean for the second row.\n",
        "# The print code prints the means for the sst and pvalb.\n",
        "\n",
        "v_rest_mean_sst = st.mean(v_rest[0])\n",
        "v_rest_mean_pvalb = st.mean(v_rest[1])\n",
        "\n",
        "print(v_rest_mean_sst)\n",
        "print(v_rest_mean_pvalb)"
      ],
      "metadata": {
        "colab": {
          "base_uri": "https://localhost:8080/"
        },
        "id": "6HInxyib7wco",
        "outputId": "e7ba4aef-bd66-4745-af68-d4a69aa2ff53"
      },
      "execution_count": 131,
      "outputs": [
        {
          "output_type": "stream",
          "name": "stdout",
          "text": [
            "-67.8354138\n",
            "-69.10524450692307\n"
          ]
        }
      ]
    },
    {
      "cell_type": "markdown",
      "source": [
        "## What is the difference between the two rows?\n",
        "\n",
        "The Sst is the greater (in terms of value) mean resting membrane potential (-67.8354138) compared to the Pvalb mean resting membrane potential (-69.10524450692307).\n",
        "\n",
        "The Sst mean resting membrane potential is more positive than the Pvalb resting membrane potential, meaning it is more depolarized."
      ],
      "metadata": {
        "id": "laCAcQY-_ot7"
      }
    },
    {
      "cell_type": "code",
      "source": [
        "# This code cell imports the scipy package, to be used to perform statistical analyses.\n",
        "\n",
        "import scipy.stats as stats"
      ],
      "metadata": {
        "id": "OPiHFWHmEjwI"
      },
      "execution_count": 133,
      "outputs": []
    },
    {
      "cell_type": "code",
      "source": [
        "# This code cell uses the scipy package to perform a statistical t-test on the means to determine if the means are statistically significantly different.\n",
        "\n",
        "stats.ttest_ind(v_rest[0], v_rest[1])"
      ],
      "metadata": {
        "colab": {
          "base_uri": "https://localhost:8080/"
        },
        "id": "FPURrVlHFZR-",
        "outputId": "f6b130a7-63a1-43e6-81fc-d46851c6d95d"
      },
      "execution_count": 140,
      "outputs": [
        {
          "output_type": "execute_result",
          "data": {
            "text/plain": [
              "TtestResult(statistic=0.4656068692937736, pvalue=0.6456945808490544, df=24.0)"
            ]
          },
          "metadata": {},
          "execution_count": 140
        }
      ]
    },
    {
      "cell_type": "markdown",
      "source": [
        "## Results of the t-test\n",
        "* Because the p-value is about **0.65**, it can be determined that the data is not statistically significant because the p-value is not < 0.05.\n",
        "* This indicates that the probability of the difference between the means being due to sampling error (chance) is about 65%.\n",
        "* The p-value indicates that the difference between the means is not statistically significantly different."
      ],
      "metadata": {
        "id": "vu3kmTkjH6b6"
      }
    }
  ]
}