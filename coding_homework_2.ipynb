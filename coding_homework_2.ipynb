{
  "nbformat": 4,
  "nbformat_minor": 0,
  "metadata": {
    "colab": {
      "provenance": [],
      "include_colab_link": true
    },
    "kernelspec": {
      "name": "python3",
      "display_name": "Python 3"
    },
    "language_info": {
      "name": "python"
    }
  },
  "cells": [
    {
      "cell_type": "markdown",
      "metadata": {
        "id": "view-in-github",
        "colab_type": "text"
      },
      "source": [
        "<a href=\"https://colab.research.google.com/github/LaurenKarwacki/Lauren-Karwacki/blob/main/coding_homework_2.ipynb\" target=\"_parent\"><img src=\"https://colab.research.google.com/assets/colab-badge.svg\" alt=\"Open In Colab\"/></a>"
      ]
    },
    {
      "cell_type": "markdown",
      "source": [
        "# Coding Homework #2\n",
        "\n",
        "**Instructions:**\n",
        "\n",
        "1. Make a *Markdown Cell* that contains the following information:\n",
        "- Your name (small header)\n",
        "- The name of this class (italicized)\n",
        "- The date (bolded)\n",
        "\n",
        "2. Make a *Code Cell* that imports <code>numpy</code> as <code>np</code>, <code>matplotlib.pyplot</code> as <code>plt</code>, <code>statistics</code> as <code>st</code>.\n",
        "\n",
        "3. Make a *Code Cell* that imports your <code>v_rest_sst.csv</code> and <code>v_rest_pvalb.csv</code> files as <code>numpy</code> arrays called <code>v_rest1</code> and <code>v_rest2</code> respectively. You're used to doing this with the <code>pd.read_csv</code> function for <code>pandas</code>, but can accomplish the same thing using the <code>np.loadtxt</code> function for <code>numpy</code>.\n",
        "\n",
        "4. Make a *Code Cell* that concatenates <code>v_rest_sst</code> and <code>v_rest_pvalb</code> into a matrix with 2 rows and 13 columns named <code>v_rest</code>.\n",
        "\n",
        "5. Make a *Code Cell* that prints the <code>size</code> of <code>v_rest</code>.\n",
        "\n",
        "6. Make a *Code Cell* that returns the first row of <code>v_rest</code>.\n",
        "\n",
        "7. Make a *Code Cell* that returns the sum of the values in the third column of <code>v_rest</code>. You can accomplish this by using <code>v_rest[].sum()</code>, with your index inside of the brackets. As an example, if I wanted to return the sum of the first row of <code>v_rest</code>, I could use <code>v_rest[0].sum()</code> to get my answer.\n",
        "\n",
        "8. Make a *Code Cell* that returns the second-to-last value in the second row of <code>v_rest</code> (use negative indexing for the column value).\n",
        "\n",
        "9. Create a *Code Cell* that makes a histogram of the values in the first row of <code>v_rest</code> (you can do this by using the <code>plt.hist()</code> function). Label your axes.\n",
        "\n",
        "10. Create a *Code Cell* that takes the mean of the values in the first row of <code>v_rest</code>, and assigns the mean to a variable called <code>v_rest_mean_sst</code>. Do the same thing for the second row of <code>v_rest</code>, and assign the mean value of the second row to a variable called <code>v_rest_mean_pvalb</code>. You can get the means by using the <code>st.mean()</code> function (remember to put what you want the mean *of* inside the parentheses of the function).\n",
        "\n",
        "11. Create a *Markdown Cell* that describes the difference in means between the two rows. Which one is bigger?\n",
        "\n",
        "12. How can we test whether the difference in means is *meaningful* (statistically significant)? When we're comparing two means, we can use a t-test (assuming the data are normally distributed). To use a t-test on our data, we will first need to import the <code>scipy</code> package. Create a new *Code Cell* that runs the following:\n",
        "\n",
        "<code>\n",
        "import scipy.stats as stats\n",
        "</code>\n",
        "\n",
        "13. Now, we can perform a t-test on the two rows of <code>v_rest</code>. To do this, create a new *Code Cell* that uses the <code>stats.ttest_ind()</code> function - for example:\n",
        "\n",
        "<code>\n",
        "stats.ttest_ind(row1, row2)\n",
        "</code>\n",
        "\n",
        "Replace <code>row1</code> and <code>row2</code> in this case with the first and second rows, respectively, of <code>v_rest</code>.\n",
        "\n",
        "14. Make a *Markdown Cell* that describes the results of your t-test. You should have <code>statistic</code> variable and a <code>pvalue</code> variable. The way to interpret your p-value is as a probability - specifically, the probability that the mean of one distribution could be found in the second distribution. Typically, results are considered to be \"statistically significant\" if the probability is lower than 5% - or 0.05. What is your p-value? Based on this p-value, do you think it is likely that the means are significantly different, or do you think it is likely that they are not?\n",
        "\n",
        "15. Make sure to add at least one line with a <code>#</code> in front of it to each *Code Cell* to describe what each cell does.\n",
        "\n",
        "15. Save a copy of this notebook to your GitHub repo with the title \"coding_homework_2.ipynb\"."
      ],
      "metadata": {
        "id": "CXEcCBSA_prs"
      }
    },
    {
      "cell_type": "markdown",
      "source": [
        "## Lauren Karwacki\n",
        "*NEUR265*\n",
        "\n",
        "**2/16/2024**"
      ],
      "metadata": {
        "id": "-4IVB096UPUe"
      }
    },
    {
      "cell_type": "code",
      "source": [
        "# This code cell imports the numpy, matplotlib.pyplot, and statistics libraries into python so we can use them later.\n",
        "\n",
        "import numpy as np\n",
        "\n",
        "import matplotlib.pyplot as plt\n",
        "\n",
        "import statistics as st"
      ],
      "metadata": {
        "id": "sXaMXhTxVH3O"
      },
      "execution_count": 35,
      "outputs": []
    },
    {
      "cell_type": "code",
      "source": [
        "# This code cell imports the raw data scores from the Pvalb and Sst datasets and converts them to numpy arrays.\n",
        "# The v_rest1 is the variable assigned to the Pvalb numpy array and the v_rest2 is the variable assigned to the Sst numpy array.\n",
        "\n",
        "url_pvalb = 'https://raw.githubusercontent.com/LaurenKarwacki/Lauren-Karwacki/main/v_rest_pvalb.csv'\n",
        "v_rest1 = np.loadtxt(url_pvalb)\n",
        "\n",
        "url_sst = 'https://raw.githubusercontent.com/LaurenKarwacki/Lauren-Karwacki/main/v_rest_sst.csv'\n",
        "v_rest2 = np.loadtxt(url_sst)"
      ],
      "metadata": {
        "id": "BQJPCZcKWFoa"
      },
      "execution_count": 36,
      "outputs": []
    },
    {
      "cell_type": "code",
      "source": [
        "# This code cell first combines the both raw datasets into one matrix.\n",
        "\n",
        "v_rest = np.array([v_rest1,v_rest2])"
      ],
      "metadata": {
        "id": "VA4pd3enZ2jc"
      },
      "execution_count": 37,
      "outputs": []
    },
    {
      "cell_type": "code",
      "source": [
        "# This code cell prints the total number of datapoints in the matrix.\n",
        "\n",
        "v_rest.size"
      ],
      "metadata": {
        "id": "ry59QRuM0Kd-",
        "colab": {
          "base_uri": "https://localhost:8080/"
        },
        "outputId": "75d289c3-93c9-4701-de24-7029ea66c8d3"
      },
      "execution_count": 38,
      "outputs": [
        {
          "output_type": "execute_result",
          "data": {
            "text/plain": [
              "1000"
            ]
          },
          "metadata": {},
          "execution_count": 38
        }
      ]
    },
    {
      "cell_type": "code",
      "source": [
        "# This code cell prints the first row of the matrix. 0 indicates the first row/column.\n",
        "# Because there is no other value after the 0 in the brackets, the code will only return the row indicated.\n",
        "\n",
        "v_rest[0]"
      ],
      "metadata": {
        "id": "4WpndkiV0Tvb",
        "colab": {
          "base_uri": "https://localhost:8080/"
        },
        "outputId": "c99a1525-2509-47c5-e65a-28f01bed7d16"
      },
      "execution_count": 39,
      "outputs": [
        {
          "output_type": "execute_result",
          "data": {
            "text/plain": [
              "array([-70.21126938, -49.92227745, -75.71939359, -72.36807022,\n",
              "       -63.09300825, -75.5469301 , -66.51929994, -71.50055833,\n",
              "       -69.19734478, -76.38503876, -65.96166784, -65.47980734,\n",
              "       -59.95571342, -69.94688056, -74.56247482, -69.56489473,\n",
              "       -66.74425422, -71.57112946, -71.23040619, -71.99371229,\n",
              "       -79.66145376, -60.18065071, -70.27087275, -69.51328714,\n",
              "       -76.44443893, -61.01587601, -66.54598575, -68.57077581,\n",
              "       -72.52978809, -69.55428314, -79.4150077 , -66.12706146,\n",
              "       -69.61513367, -69.59012375, -78.5484375 , -69.97646046,\n",
              "       -63.67217359, -69.80182966, -72.46670193, -72.17225588,\n",
              "       -63.49881536, -67.87744827, -75.48496437, -73.37054698,\n",
              "       -73.57516549, -68.23623112, -64.82718235, -61.53974394,\n",
              "       -64.49179316, -73.83959484, -65.12582397, -76.59335175,\n",
              "       -71.79500173, -68.45139211, -70.45548483, -78.36537799,\n",
              "       -73.34691535, -65.32437515, -79.56857345, -73.24215508,\n",
              "       -69.29635385, -69.78741977, -75.46377702, -62.96309948,\n",
              "       -71.2908991 , -66.48377482, -70.91091711, -73.812372  ,\n",
              "       -72.20985667, -69.96945784, -73.89710903, -70.69981384,\n",
              "       -71.78472214, -71.2366333 , -70.32203397, -66.84520028,\n",
              "       -73.6830319 , -77.15300836, -74.30223999, -75.96343918,\n",
              "       -76.60544031, -67.4737871 , -76.80049515, -67.7835242 ,\n",
              "       -69.24444649, -66.562117  , -72.70650968, -76.98647766,\n",
              "       -66.31190213, -69.16459317, -74.18300883, -71.13142395,\n",
              "       -62.3826299 , -68.18338776, -63.91052628, -64.61604004,\n",
              "       -72.53743896, -70.0023076 , -63.52667872, -72.09005483,\n",
              "       -73.98286141, -73.68122973, -75.36988004, -63.33816433,\n",
              "       -74.72358704, -72.98912048, -60.64855893, -62.96065267,\n",
              "       -70.52058983, -65.0739793 , -70.13142204, -69.34797592,\n",
              "       -64.24214935, -60.40180155, -74.15554746, -62.72604243,\n",
              "       -70.18133011, -77.17841816, -72.41702576, -72.76734085,\n",
              "       -68.70905668, -59.70027161, -66.04749437, -75.0096283 ,\n",
              "       -71.56426004, -70.73058777, -70.40543483, -77.96272637,\n",
              "       -67.21768867, -62.34071147, -67.34458567, -74.19429502,\n",
              "       -54.57372829, -67.21684692, -69.30513096, -76.5121479 ,\n",
              "       -80.21683048, -59.9653595 , -73.41237432, -73.05031762,\n",
              "       -70.17263031, -77.22162056, -70.25255871, -82.15408834,\n",
              "       -72.71630096, -69.31910445, -68.52570852, -72.02950202,\n",
              "       -76.86460935, -69.15579376, -76.44434826, -66.28668386,\n",
              "       -60.05406952, -73.87456651, -66.03997612, -73.06031581,\n",
              "       -68.57550176, -66.47047848, -68.24995129, -69.39236832,\n",
              "       -85.08712514, -73.50475057, -69.75260573, -76.26741257,\n",
              "       -72.10509532, -70.37100337, -67.04726257, -60.13976256,\n",
              "       -65.10165575, -69.02886061, -85.27155304, -70.10099295,\n",
              "       -77.42475683, -71.36865343, -71.42564265, -71.51243693,\n",
              "       -82.42582078, -75.12544886, -75.26143592, -63.66333813,\n",
              "       -77.75182037, -71.46546402, -76.74580591, -72.42326508,\n",
              "       -76.89894659, -74.98883133, -74.44435215, -74.18211873,\n",
              "       -74.98208694, -66.89467176, -59.52435927, -65.33482596,\n",
              "       -73.39031103, -73.1117089 , -72.78417206, -63.24573794,\n",
              "       -76.43845367, -64.63129262, -76.49309049, -72.14073096,\n",
              "       -71.46276754, -70.05833664, -71.36121845, -64.8624588 ,\n",
              "       -75.33095856, -77.79344801, -68.87708855, -72.68692271,\n",
              "       -71.98399639, -61.52872552, -76.10343628, -68.6402626 ,\n",
              "       -64.79378967, -73.9802636 , -65.97551537, -76.23110786,\n",
              "       -68.91499953, -68.50564041, -80.33824412, -72.60192732,\n",
              "       -76.7192465 , -69.05805206, -73.15496445, -67.31814399,\n",
              "       -69.95926189, -68.95418701, -72.35997655, -73.95244026,\n",
              "       -73.83023148, -74.94270515, -59.67759558, -84.95750921,\n",
              "       -76.18991776, -70.33806055, -70.37933519, -71.7372673 ,\n",
              "       -68.21913734, -49.49433872, -66.35454677, -73.7895607 ,\n",
              "       -53.75135721, -66.93729237, -76.61933081, -68.8260871 ,\n",
              "       -63.4189415 , -76.78218564, -65.03384469, -69.94968532,\n",
              "       -74.06837671, -72.76574071, -80.90219021, -71.08096568,\n",
              "       -78.63107372, -73.77603785, -64.25452919, -74.77297974,\n",
              "       -60.50641493, -74.5649236 , -71.13717461, -68.71527516,\n",
              "       -67.64737256, -73.21049336, -73.29004392, -73.7061259 ,\n",
              "       -63.52802963, -72.52330685, -73.2239507 , -79.28403778,\n",
              "       -70.04868735, -71.07940535, -67.85340373, -78.81678351,\n",
              "       -67.51880391, -71.890758  , -66.06520844, -68.68455696,\n",
              "       -64.39646114, -61.59294558, -45.16148875, -64.7178095 ,\n",
              "       -73.91056585, -70.49212392, -73.39612656, -63.49754091,\n",
              "       -65.00615921, -63.66963005, -62.02658756, -66.55383911,\n",
              "       -72.05497503, -64.34342722, -62.05006065, -69.84383087,\n",
              "       -64.97148599, -61.45362244, -73.95245504, -65.67422829,\n",
              "       -62.09718011, -66.43787384, -71.20577698, -67.06706365,\n",
              "       -72.19621059, -75.62486619, -54.58956655, -68.87962827,\n",
              "       -72.64556681, -71.2754045 , -65.0824763 , -74.33086261,\n",
              "       -72.2672037 , -64.61959839, -74.78640074, -79.90511958,\n",
              "       -72.30972147, -65.79442805, -63.43268551, -62.60790482,\n",
              "       -58.98596107, -74.84587288, -66.20994415, -75.16301589,\n",
              "       -54.39849009, -75.21203279, -79.70610136, -70.0041832 ,\n",
              "       -70.375103  , -73.08417829, -71.16105241, -65.22248777,\n",
              "       -67.09128523, -63.77032156, -68.20046528, -63.27102232,\n",
              "       -75.99102783, -56.01576498, -71.41725673, -68.33320236,\n",
              "       -69.07180659, -57.22267075, -68.05515416, -82.33782425,\n",
              "       -76.2417634 , -73.24785086, -59.92043617, -78.28807309,\n",
              "       -72.83539836, -74.20873538, -65.11907768, -62.32539298,\n",
              "       -63.8731339 , -69.85853022, -70.91732653, -63.33223486,\n",
              "       -70.42216136, -60.03927652, -71.84131317, -75.73205277,\n",
              "       -69.89540159, -76.13068814, -74.65531852, -71.24433136,\n",
              "       -61.77188842, -66.23051071, -75.88739177, -68.88990784,\n",
              "       -71.56507492, -80.3354204 , -78.24227715, -67.3556722 ,\n",
              "       -74.42930494, -65.67231598, -67.09417586, -74.27500262,\n",
              "       -74.98022715, -73.50820351, -66.94791967, -75.38965289,\n",
              "       -68.93162791, -64.91291332, -67.29045633, -67.11269052,\n",
              "       -70.42843018, -66.35831451, -71.30635834, -58.89404511,\n",
              "       -75.21479381, -64.55495071, -77.46167831, -76.14933291,\n",
              "       -70.13900687, -72.11177965, -70.51647513, -62.15946752,\n",
              "       -75.51109738, -74.60552171, -66.27366447, -66.27600416,\n",
              "       -61.15359179, -74.41789848, -60.50629552, -66.06550598,\n",
              "       -65.74472122, -69.88450283, -75.47979889, -74.86978065,\n",
              "       -60.54395828, -77.0442955 , -79.43740012, -63.14792323,\n",
              "       -70.18676122, -74.24870508, -69.14681625, -75.91781547,\n",
              "       -71.78303964, -69.70603507, -73.3475257 , -71.4528567 ,\n",
              "       -69.14905777, -57.86522848, -74.28701096, -70.68525357,\n",
              "       -57.39815182, -77.91744486, -67.2992185 , -76.28196023,\n",
              "       -67.16720304, -70.76006953, -76.03640747, -77.17564106,\n",
              "       -74.84657574, -79.16310883, -60.61034546, -76.74113464,\n",
              "       -75.42171326, -70.19531367, -66.20436096, -70.38792383,\n",
              "       -68.58678532, -69.11055069, -64.1710486 , -60.92217047,\n",
              "       -73.05046921, -70.45223652, -69.27200759, -60.36254501,\n",
              "       -63.88057098, -61.92678534, -75.11632831, -75.51814964,\n",
              "       -58.05681463, -71.34268273, -71.57948102, -64.32707051,\n",
              "       -75.08819834, -80.23915354, -69.4977985 , -66.75648816,\n",
              "       -75.33296108, -71.96166437, -72.81229609, -62.06727912,\n",
              "       -72.23556488, -72.42158356, -52.96717934, -69.9353825 ,\n",
              "       -62.71434729, -72.46018524, -63.26730381, -77.91137356,\n",
              "       -73.02782965, -72.60526106, -73.19980081, -73.96719106,\n",
              "       -82.52057571, -72.38652971, -69.09519196, -67.54347588,\n",
              "       -72.00463382, -76.84164221, -73.10674763, -65.63651195,\n",
              "       -65.86209259, -68.14571615, -67.14822693, -68.49226685,\n",
              "       -72.5674924 , -79.95694415, -80.09795237, -74.65723038,\n",
              "       -63.31494037, -74.89197111, -69.8301128 , -63.96796036,\n",
              "       -74.18684387, -61.5182235 , -72.24553375, -70.51967037,\n",
              "       -69.91747561, -71.44608222, -49.80412917, -54.08427915])"
            ]
          },
          "metadata": {},
          "execution_count": 39
        }
      ]
    },
    {
      "cell_type": "code",
      "source": [
        "# This code cell adds the values in the third column together. The \":\" indicates including all rows and the \"2\" indicates the third column.\n",
        "\n",
        "v_rest[:,2].sum()"
      ],
      "metadata": {
        "id": "bEvLnMEz0-k2",
        "colab": {
          "base_uri": "https://localhost:8080/"
        },
        "outputId": "a544f9b4-515c-4b2d-c0a3-cf5b6c7c8f3f"
      },
      "execution_count": 40,
      "outputs": [
        {
          "output_type": "execute_result",
          "data": {
            "text/plain": [
              "-151.75359464"
            ]
          },
          "metadata": {},
          "execution_count": 40
        }
      ]
    },
    {
      "cell_type": "code",
      "source": [
        "# This code cell identifies the second to last value in the second row of the matrix.\n",
        "# The \"1\" indicates the second row and the \"-2\" indicates the second to last column.\n",
        "\n",
        "v_rest[1,-2]"
      ],
      "metadata": {
        "id": "KPy0Gmx_25he",
        "colab": {
          "base_uri": "https://localhost:8080/"
        },
        "outputId": "8d03f1f1-993f-4d84-fe82-79aef150dffa"
      },
      "execution_count": 41,
      "outputs": [
        {
          "output_type": "execute_result",
          "data": {
            "text/plain": [
              "-65.59535842"
            ]
          },
          "metadata": {},
          "execution_count": 41
        }
      ]
    },
    {
      "cell_type": "code",
      "source": [
        "# This code cell creates a histogram for the first row of the matrix (as indicated by the \"0\" in the brackets).\n",
        "# plt.xlabel() cell labels the x-axis with the label \"Resting Membrane Potential (mV)\"\n",
        "# plt.ylabel() labels the y-axis with the label \"Frequency\"\n",
        "\n",
        "plt.hist(v_rest[0])\n",
        "plt.xlabel('Resting Membrane Potential (mV)')\n",
        "plt.ylabel('Frequency')"
      ],
      "metadata": {
        "id": "q1tsSEH23161",
        "colab": {
          "base_uri": "https://localhost:8080/",
          "height": 466
        },
        "outputId": "cd8bd4d1-2f41-42f9-a13a-79fe4f6251a1"
      },
      "execution_count": 42,
      "outputs": [
        {
          "output_type": "execute_result",
          "data": {
            "text/plain": [
              "Text(0, 0.5, 'Frequency')"
            ]
          },
          "metadata": {},
          "execution_count": 42
        },
        {
          "output_type": "display_data",
          "data": {
            "text/plain": [
              "<Figure size 640x480 with 1 Axes>"
            ],
            "image/png": "[encoded data removed]"
          },
          "metadata": {}
        }
      ]
    },
    {
      "cell_type": "code",
      "source": [
        "# This code cell calculates the means of the first and second rows of the matrix individually.\n",
        "# The v_rest_mean_sst is the variable assigned to the statistical mean for the first row.\n",
        "# The v_rest_mean_pvalb is the variable assigned to the statistical mean for the second row.\n",
        "# The print code prints the means for the sst and pvalb.\n",
        "\n",
        "v_rest_mean_sst = st.mean(v_rest[0])\n",
        "v_rest_mean_pvalb = st.mean(v_rest[1])\n",
        "\n",
        "print(v_rest_mean_sst)\n",
        "print(v_rest_mean_pvalb)"
      ],
      "metadata": {
        "id": "6HInxyib7wco",
        "colab": {
          "base_uri": "https://localhost:8080/"
        },
        "outputId": "4959946a-55ed-49f5-cb1a-8ea8b84e1545"
      },
      "execution_count": 43,
      "outputs": [
        {
          "output_type": "stream",
          "name": "stdout",
          "text": [
            "-69.97869017908\n",
            "-67.73465864056\n"
          ]
        }
      ]
    },
    {
      "cell_type": "markdown",
      "source": [
        "## What is the difference between the two rows?\n",
        "\n",
        "The Sst is the greater (in terms of value) mean resting membrane potential (-69.97869017908) compared to the Pvalb mean resting membrane potential (-67.73465864056).\n",
        "\n",
        "The Pvalb mean resting membrane potential is more positive than the Sst resting membrane potential, meaning it is more depolarized."
      ],
      "metadata": {
        "id": "laCAcQY-_ot7"
      }
    },
    {
      "cell_type": "code",
      "source": [
        "# This code cell imports the scipy package, to be used to perform statistical analyses.\n",
        "\n",
        "import scipy.stats as stats"
      ],
      "metadata": {
        "id": "OPiHFWHmEjwI"
      },
      "execution_count": 44,
      "outputs": []
    },
    {
      "cell_type": "code",
      "source": [
        "# This code cell uses the scipy package to perform a statistical t-test on the means to determine if the means are statistically significantly different.\n",
        "\n",
        "stats.ttest_ind(v_rest[0], v_rest[1])"
      ],
      "metadata": {
        "id": "FPURrVlHFZR-",
        "colab": {
          "base_uri": "https://localhost:8080/"
        },
        "outputId": "a22b9448-af48-426f-b41d-2c81ab574046"
      },
      "execution_count": 45,
      "outputs": [
        {
          "output_type": "execute_result",
          "data": {
            "text/plain": [
              "TtestResult(statistic=-5.837507010328816, pvalue=7.159828660199036e-09, df=998.0)"
            ]
          },
          "metadata": {},
          "execution_count": 45
        }
      ]
    },
    {
      "cell_type": "markdown",
      "source": [
        "## Results of the t-test\n",
        "* Because the p-value is about **7.16 x 10^-9**, it can be determined that the data is statistically significant because the p-value is less than 0.05.\n",
        "* The p-value indicates that there is a statistically significant difference between the two means."
      ],
      "metadata": {
        "id": "vu3kmTkjH6b6"
      }
    }
  ]
}