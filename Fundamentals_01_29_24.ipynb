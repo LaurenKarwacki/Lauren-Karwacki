{
  "nbformat": 4,
  "nbformat_minor": 0,
  "metadata": {
    "colab": {
      "provenance": [],
      "include_colab_link": true
    },
    "kernelspec": {
      "name": "python3",
      "display_name": "Python 3"
    },
    "language_info": {
      "name": "python"
    }
  },
  "cells": [
    {
      "cell_type": "markdown",
      "metadata": {
        "id": "view-in-github",
        "colab_type": "text"
      },
      "source": [
        "<a href=\"https://colab.research.google.com/github/LaurenKarwacki/Lauren-Karwacki/blob/main/Fundamentals_01_29_24.ipynb\" target=\"_parent\"><img src=\"https://colab.research.google.com/assets/colab-badge.svg\" alt=\"Open In Colab\"/></a>"
      ]
    },
    {
      "cell_type": "markdown",
      "source": [
        "# Programming Fundamentals II: Data Structures\n",
        "\n",
        "In this notebook, we'll explore different types of data structures that Python can use to store information, namely **lists, tuples, and dictionaries.**"
      ],
      "metadata": {
        "id": "FZACfZEVgB1H"
      }
    },
    {
      "cell_type": "markdown",
      "source": [
        "## At the end of this notebook, you'll be able to:\n",
        "\n",
        "* Compare & contrast the types of structures that Python uses to store data points\n",
        "* Recognize & create lists, tuples, and dictionaries in Python\n",
        "* Index, slice, cast, and mutate lists\n",
        "* Understand the implications of mutability and object-oriented programming"
      ],
      "metadata": {
        "id": "KUaqfFghgH_c"
      }
    },
    {
      "cell_type": "markdown",
      "source": [
        "## A _list_ is a mutable collection of ordered items, that can be of mixed type.\n",
        "\n",
        "**Mutable** means that individual items in the object can be changed. Lists are mutable. Tuples and strings are not -- they're **immutable**.\n",
        "\n",
        "Lists are created using square brackets `[ ]`, and individual elements are separated by commas."
      ],
      "metadata": {
        "id": "vHS5CVFlgTpa"
      }
    },
    {
      "cell_type": "code",
      "source": [
        "# Create a list of 5 fruits\n",
        "fruits = ['strawberry','banana','pineapple','apple','blueberry']"
      ],
      "metadata": {
        "id": "Q4RZ9szNgeeM"
      },
      "execution_count": 15,
      "outputs": []
    },
    {
      "cell_type": "markdown",
      "source": [
        "### Useful list functions\n",
        "\n",
        "- Check the length of your list by using `len(my_list)`\n",
        "- Use `my_list.append()` to add elements to a list\n",
        "- Remove elements by value by using `my_list.remove('value')`\n",
        "- Sort by using `my_list.sort()`"
      ],
      "metadata": {
        "id": "BUxTR2jRgsg8"
      }
    },
    {
      "cell_type": "code",
      "source": [
        "# fruits.remove('mango')\n",
        "# fruits.append('mango')\n",
        "# len(fruits)\n",
        "# fruits.sort()\n",
        "# print(fruits)"
      ],
      "metadata": {
        "id": "pznW52D1hDto",
        "colab": {
          "base_uri": "https://localhost:8080/"
        },
        "outputId": "f67dc8d9-3fb8-47c6-ffc2-3cded8328ad7"
      },
      "execution_count": 42,
      "outputs": [
        {
          "output_type": "stream",
          "name": "stdout",
          "text": [
            "['apple', 'banana', 'blueberry', 'mango', 'pineapple', 'strawberry']\n"
          ]
        }
      ]
    },
    {
      "cell_type": "code",
      "source": [
        "fruits.sort(reverse=True)\n",
        "print(fruits)"
      ],
      "metadata": {
        "id": "NdNX0kkUh0tE",
        "colab": {
          "base_uri": "https://localhost:8080/"
        },
        "outputId": "5321ecc0-8fb8-4c52-e676-e533df21037f"
      },
      "execution_count": 44,
      "outputs": [
        {
          "output_type": "stream",
          "name": "stdout",
          "text": [
            "['strawberry', 'pineapple', 'mango', 'blueberry', 'banana', 'apple']\n"
          ]
        }
      ]
    },
    {
      "cell_type": "markdown",
      "source": [
        "### List indexing & slicing\n",
        "\n",
        "**Indexing** refers to selecting an item from within a collection (e.g., lists, tuples, and strings). Indexing is done by placing the **index number** in square brackets, directly after the list variable.\n",
        "\n",
        "For example, if `my_list = [1,3,5]`, we can get the second value using `my_list[1]`. (Python starts indexing at zero!)"
      ],
      "metadata": {
        "id": "_4nggv26hG2o"
      }
    },
    {
      "cell_type": "code",
      "source": [
        "# Output the first value of your 'fruits' list\n",
        "fruits[0]\n",
        "print(fruits[0])\n",
        "\n",
        "# Output the fourth value of your 'fruits' list\n",
        "fruits[3]\n",
        "print(fruits[3])\n",
        "\n",
        "# Output the reverse first value of your 'fruits' list\n",
        "fruits[-1]\n",
        "print(fruits[-1])"
      ],
      "metadata": {
        "id": "Dcdev3yOhSs6",
        "colab": {
          "base_uri": "https://localhost:8080/"
        },
        "outputId": "5de1a6b1-af13-4d61-e0c2-00260d219a6c"
      },
      "execution_count": 49,
      "outputs": [
        {
          "output_type": "stream",
          "name": "stdout",
          "text": [
            "strawberry\n",
            "blueberry\n",
            "apple\n"
          ]
        }
      ]
    },
    {
      "cell_type": "markdown",
      "source": [
        "You can also index in the reverse direction - the final value in a list is `-1`, with the order of numbers decreasing in the reverse direction (for example, the second-to-last value in a list is `-2`, the value before that is `-3`, etc.)"
      ],
      "metadata": {
        "id": "GdZbY4K7i-6c"
      }
    },
    {
      "cell_type": "markdown",
      "source": [
        "### If we want multiple items, we can **slice** the list.\n",
        "\n",
        "There are a few ways to slice:\n",
        "\n",
        "1. We can **slice** a part of a list using the syntax `[start:stop]`, which extracts characters between index start (0) and stop (-1).\n",
        "\n",
        "**Notes**\n",
        "\n",
        "- `start` is __included__ then every element __until__ `stop` is included.\n",
        "- Negative values count backwards through the list."
      ],
      "metadata": {
        "id": "uQTKSmfci2IF"
      }
    },
    {
      "cell_type": "markdown",
      "source": [
        "2. If we omit either (or both) of start or stop from `[start:stop]`, the default is the beginning and the end of the string, respectively, e.g. `[:3]`\n",
        "\n",
        "3. We can also define the step size (instead of default 1) using the syntax `[start:stop:step]`"
      ],
      "metadata": {
        "id": "PQ5P5sp5j7Er"
      }
    },
    {
      "cell_type": "markdown",
      "source": [
        "<b>Task:</b> For our list of fruits, create three different slices, and save them as different variables:\n",
        "\n",
        "1. A slice of the first two fruits.\n",
        "2. A slice of the middle three fruits.\n",
        "3. A slice of the last fruit."
      ],
      "metadata": {
        "id": "mrTase5okPlB"
      }
    },
    {
      "cell_type": "code",
      "source": [
        "# Your code here!\n",
        "taskone = fruits[:2]\n",
        "print(taskone)\n",
        "\n",
        "tasktwo = fruits[1:4]\n",
        "print(tasktwo)\n",
        "\n",
        "taskthree = fruits[-1]\n",
        "print(taskthree)"
      ],
      "metadata": {
        "id": "jahAUklYkarf",
        "colab": {
          "base_uri": "https://localhost:8080/"
        },
        "outputId": "2f2806fe-65a9-4104-ada1-da274ffe9a23"
      },
      "execution_count": 67,
      "outputs": [
        {
          "output_type": "stream",
          "name": "stdout",
          "text": [
            "['strawberry', 'pineapple']\n",
            "['pineapple', 'mango', 'blueberry']\n",
            "apple\n"
          ]
        }
      ]
    },
    {
      "cell_type": "markdown",
      "source": [
        "### Checking length\n",
        "\n",
        "We can use the function `len( )` to check the length of lists.\n",
        "\n",
        "**Note**: We can also use this to get the number of characters in a string!"
      ],
      "metadata": {
        "id": "cZ8A-U-okebM"
      }
    },
    {
      "cell_type": "code",
      "source": [
        "len(fruits)"
      ],
      "metadata": {
        "id": "rWbmMFvukmsZ",
        "colab": {
          "base_uri": "https://localhost:8080/"
        },
        "outputId": "8e3c8285-28d4-44f7-ee6f-8818b915a377"
      },
      "execution_count": 69,
      "outputs": [
        {
          "output_type": "execute_result",
          "data": {
            "text/plain": [
              "6"
            ]
          },
          "metadata": {},
          "execution_count": 69
        }
      ]
    },
    {
      "cell_type": "markdown",
      "source": [
        "### Checking membership\n",
        "\n",
        "We can use `in` to see if an item exists in a list. The `in` operator checks whether an element is present in a collection, and can be negated with `not` (e.g., `value not in list`)."
      ],
      "metadata": {
        "id": "PJIU8K26ktF-"
      }
    },
    {
      "cell_type": "code",
      "source": [
        "# Is orange a fruit in your list?\n",
        "'orange' in fruits"
      ],
      "metadata": {
        "id": "P-rlqkzglI_7",
        "colab": {
          "base_uri": "https://localhost:8080/"
        },
        "outputId": "f301b537-7e98-4d6f-f286-c821ed903006"
      },
      "execution_count": 70,
      "outputs": [
        {
          "output_type": "execute_result",
          "data": {
            "text/plain": [
              "False"
            ]
          },
          "metadata": {},
          "execution_count": 70
        }
      ]
    },
    {
      "cell_type": "code",
      "source": [
        "# Make some code to see if 'apple' is *not* included in your list\n",
        "'apple' not in fruits"
      ],
      "metadata": {
        "id": "ya-CIy50m1l_",
        "colab": {
          "base_uri": "https://localhost:8080/"
        },
        "outputId": "3aca4b3f-beb5-4110-d0f9-f224be065bf4"
      },
      "execution_count": 72,
      "outputs": [
        {
          "output_type": "execute_result",
          "data": {
            "text/plain": [
              "False"
            ]
          },
          "metadata": {},
          "execution_count": 72
        }
      ]
    },
    {
      "cell_type": "markdown",
      "source": [
        "### Mutating lists\n",
        "\n",
        "After definition, we can update members of our list _because lists are mutable!_\n",
        "\n",
        "An example of this is below:"
      ],
      "metadata": {
        "id": "P5IQE1Pkn0kQ"
      }
    },
    {
      "cell_type": "code",
      "source": [
        "# Let's replace the first item in our fruits list with 'coconut'\n",
        "fruits[0] = 'coconut'"
      ],
      "metadata": {
        "id": "BPl_zKTboV4_"
      },
      "execution_count": 73,
      "outputs": []
    },
    {
      "cell_type": "markdown",
      "source": [
        "<b>Task:</b> Replace the last item in your `fruits` list with 'gooseberry'"
      ],
      "metadata": {
        "id": "sTthRjSxod1Q"
      }
    },
    {
      "cell_type": "code",
      "source": [
        "# Your code here\n",
        "#fruits[-1] = 'gooseberry'\n",
        "#print(fruits)\n",
        "\n",
        "fruits[1:4] = ['gooseberry', 'gooseberry', 'gooseberry']\n",
        "print (fruits)"
      ],
      "metadata": {
        "id": "gVI_xYt5om1t",
        "colab": {
          "base_uri": "https://localhost:8080/"
        },
        "outputId": "3e91847a-81b9-477a-ec23-864e04ae4532"
      },
      "execution_count": 87,
      "outputs": [
        {
          "output_type": "stream",
          "name": "stdout",
          "text": [
            "['coconut', 'gooseberry', 'gooseberry', 'gooseberry']\n"
          ]
        }
      ]
    },
    {
      "cell_type": "markdown",
      "source": [
        "### Creating lists of lists\n",
        "\n",
        "Sometimes, it's useful to create lists of lists. Often, if we import big datasets as lists, this is how it will be organized."
      ],
      "metadata": {
        "id": "mhyxAl4Qk3SB"
      }
    },
    {
      "cell_type": "code",
      "source": [
        "gene_1 = ['gene1',0.48,0.55]\n",
        "gene_2 = ['gene2',0.38,0.85]\n",
        "gene_3 = ['gene3',0.21,0.81]\n",
        "all_genes = [gene_1, gene_2, gene_3]\n",
        "\n",
        "# We can use this syntax to get a specific value\n",
        "print(all_genes[0][-1])\n",
        "print(all_genes[1][1])"
      ],
      "metadata": {
        "id": "1NlVKjLGnRWC",
        "colab": {
          "base_uri": "https://localhost:8080/"
        },
        "outputId": "d924ea4a-d1a2-43bd-a32f-2e1fc3c072a2"
      },
      "execution_count": 89,
      "outputs": [
        {
          "output_type": "stream",
          "name": "stdout",
          "text": [
            "0.55\n",
            "0.38\n"
          ]
        }
      ]
    },
    {
      "cell_type": "markdown",
      "source": [
        "## A _tuple_ is an **immutable** collection of ordered items, that can be of mixed type.\n",
        "\n",
        "* Tuples are created using parentheses.\n",
        "* Indexing works similar to lists."
      ],
      "metadata": {
        "id": "XWuaK7JYpBFW"
      }
    },
    {
      "cell_type": "code",
      "source": [
        "# Define a tuple\n",
        "tup = (2, 'b', False)\n",
        "tup[1]\n",
        "\n",
        "type(tup[-1])"
      ],
      "metadata": {
        "id": "EhEIptUBpFJz",
        "colab": {
          "base_uri": "https://localhost:8080/"
        },
        "outputId": "9d332bd4-d06d-4dbf-b5ff-750038ae1eb2"
      },
      "execution_count": 94,
      "outputs": [
        {
          "output_type": "execute_result",
          "data": {
            "text/plain": [
              "bool"
            ]
          },
          "metadata": {},
          "execution_count": 94
        }
      ]
    },
    {
      "cell_type": "code",
      "source": [],
      "metadata": {
        "id": "B8zNjYyLsGON"
      },
      "execution_count": null,
      "outputs": []
    }
  ]
}